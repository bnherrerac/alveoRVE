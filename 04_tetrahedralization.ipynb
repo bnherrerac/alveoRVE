{
 "cells": [
  {
   "cell_type": "code",
   "execution_count": 1,
   "id": "4f78d70d",
   "metadata": {},
   "outputs": [],
   "source": [
    "import dolfinx\n",
    "from mpi4py import MPI\n",
    "from petsc4py import PETSc\n",
    "from dolfinx import mesh as dmesh\n",
    "from dolfinx import fem\n",
    "from dolfinx import io\n",
    "from dolfinx import plot\n",
    "import ufl  "
   ]
  },
  {
   "cell_type": "code",
   "execution_count": 2,
   "id": "18cbdfb8",
   "metadata": {},
   "outputs": [],
   "source": [
    "import numpy as np\n",
    "import sys\n",
    "import trimesh\n",
    "import tetgen \n",
    "import meshio \n",
    "import math\n",
    "\n",
    "import matplotlib.pyplot as plt\n",
    "import pymeshfix as pfix\n",
    "import pyvista as pv\n",
    "import iso2mesh as i2m\n",
    "import pygalmesh as pygm\n",
    "import pymeshlab as ml\n",
    "\n",
    "from skimage.filters import threshold_otsu\n",
    "from tqdm.notebook import tqdm\n",
    "from skimage.transform import resize\n",
    "from typing import Any, Dict, Optional, Tuple, List\n",
    "\n",
    "sys.path.append('./src')  # to import alveoRVE from parent directory\n",
    "\n",
    "from alveoRVE.plot.mpl import show_four_panel_volume\n",
    "from alveoRVE.plot.pv import view_surface\n",
    "\n",
    "%load_ext autoreload\n",
    "%autoreload 2"
   ]
  },
  {
   "cell_type": "code",
   "execution_count": 3,
   "id": "cf3a7853",
   "metadata": {},
   "outputs": [],
   "source": [
    "def _triangle_quality(V, F):\n",
    "    # 2*sqrt(3)*A / sum(l^2)  -> 1 for equilateral; 0 for degenerate\n",
    "    p0, p1, p2 = V[F[:,0]], V[F[:,1]], V[F[:,2]]\n",
    "    e0 = np.linalg.norm(p1 - p0, axis=1)\n",
    "    e1 = np.linalg.norm(p2 - p1, axis=1)\n",
    "    e2 = np.linalg.norm(p0 - p2, axis=1)\n",
    "    A  = 0.5*np.linalg.norm(np.cross(p1 - p0, p2 - p0), axis=1)\n",
    "    denom = e0**2 + e1**2 + e2**2\n",
    "    with np.errstate(divide='ignore', invalid='ignore'):\n",
    "        q = (2.0*math.sqrt(3.0))*A/denom\n",
    "        q[~np.isfinite(q)] = 0.0\n",
    "    return np.clip(q, 0.0, 1.0)\n",
    "\n",
    "\n",
    "def mesh_report(mesh: trimesh.Trimesh, name=\"mesh\", plot=True, tol_dup=1e-12) -> dict:\n",
    "    \"\"\"\n",
    "    Print thorough stats and return a dict. Does NOT mutate the mesh.\n",
    "    \"\"\"\n",
    "    m = mesh.copy()\n",
    "\n",
    "    print(f\"\\n=== {name}: geometric/graph checks START ===\")\n",
    "    print(f\"trimesh metrics:\")\n",
    "    print(f\"mesh is_winding_consistent? {m.is_winding_consistent}\")\n",
    "    print(f\"mesh is_watertight? {m.is_watertight}\")\n",
    "    print(f\"verts={len(m.vertices):,}, faces={len(m.faces):,}\")\n",
    "    bbox = m.bounds\n",
    "    L = bbox[1] - bbox[0]\n",
    "    print(f\"bbox min={bbox[0]}, max={bbox[1]}, extents={L}\")\n",
    "\n",
    "    # basic areas/volumes\n",
    "    A = float(m.area)\n",
    "    Vvol = float(m.volume) if m.is_watertight else None\n",
    "    print(f\"surface area = {A:.6g}\")\n",
    "    if Vvol is not None:\n",
    "        print(f\"enclosed volume (watertight) = {Vvol:.6g}\")\n",
    "    else:\n",
    "        print(\"enclosed volume = N/A (mesh not watertight)\")\n",
    "\n",
    "    # edge-length stats (proxy for 'h')\n",
    "    edges = m.edges_unique\n",
    "    elen  = np.linalg.norm(m.vertices[edges[:,0]] - m.vertices[edges[:,1]], axis=1)\n",
    "    print(f\"h (edge length): min={elen.min():.4g}, mean={elen.mean():.4g}, max={elen.max():.4g}\")\n",
    "\n",
    "    # duplicates (faces & vertices)\n",
    "    F_sorted = np.sort(m.faces, axis=1)\n",
    "    _, idx = np.unique(F_sorted, axis=0, return_index=True)\n",
    "    dup_faces = len(m.faces) - len(idx)\n",
    "    Vkey = np.round(m.vertices / tol_dup).astype(np.int64)\n",
    "    _, vidx = np.unique(Vkey, axis=0, return_index=True)\n",
    "    dup_verts = len(m.vertices) - len(vidx)\n",
    "    print(f\"duplicate faces: {dup_faces:,}, duplicate vertices (<= {tol_dup:g}): {dup_verts:,}\")\n",
    "\n",
    "    V, F = m.vertices.copy(), m.faces.copy()\n",
    "\n",
    "    print(f\"== pymeshlab metrics:\")\n",
    "\n",
    "    ms = ml.MeshSet()\n",
    "    ms.add_mesh(ml.Mesh(V, F))\n",
    "\n",
    "    geo_measures = ms.get_geometric_measures()\n",
    "    topo_measures = ms.get_topological_measures()\n",
    "    print(\"Geometric measures:\")\n",
    "    for k, v in geo_measures.items():\n",
    "        if k in ['surface_area', 'avg_edge_length', 'volume']:\n",
    "            v = float(v)\n",
    "            print(f\"  {k}: {v}\")\n",
    "    print(\"Topological measures:\")\n",
    "    for k, v in topo_measures.items():\n",
    "        if k in ['non_two_manifold_edges', 'boundary_edges', 'non_two_manifold_vertices', 'genus', 'faces_number', 'vertices_number', 'edges_number', 'connected_components_number']:\n",
    "            v = int(v)\n",
    "            print(f\"  {k}: {v}\")\n",
    "    print(f\"== custom metrics:\")\n",
    "    # triangle quality\n",
    "    q = _triangle_quality(m.vertices, m.faces)\n",
    "    q_stats = dict(min=float(q.min()), p5=float(np.percentile(q,5)),\n",
    "                   mean=float(q.mean()), p95=float(np.percentile(q,95)),\n",
    "                   max=float(q.max()))\n",
    "    print(f\"triangle quality q in [0,1] (equilateral=1): \"\n",
    "          f\"min={q_stats['min']:.3f}, p5={q_stats['p5']:.3f}, \"\n",
    "          f\"mean={q_stats['mean']:.3f}, p95={q_stats['p95']:.3f}, max={q_stats['max']:.3f}\")\n",
    "\n",
    "\n",
    "    if plot:\n",
    "        plt.figure(figsize=(5,3))\n",
    "        plt.hist(q, bins=40, range=(0,1), alpha=0.8)\n",
    "        plt.xlabel(\"triangle quality q\"); plt.ylabel(\"count\"); plt.title(f\"Quality histogram: {name}\")\n",
    "        plt.tight_layout(); plt.show()\n",
    "\n",
    "    return dict(\n",
    "        verts=len(m.vertices), faces=len(m.faces),\n",
    "        area=A, volume=Vvol, bbox=bbox, h_stats=(float(elen.min()), float(elen.mean()), float(elen.max())),\n",
    "        watertight=bool(m.is_watertight),\n",
    "        dup_faces=int(dup_faces), dup_verts=int(dup_verts),\n",
    "        tri_quality=q_stats\n",
    "    )\n",
    "\n",
    "def quick_mesh_report(ms: ml.MeshSet | trimesh.Trimesh, i: int = 0):\n",
    "    # print(f\"\\n == pymeshlab quick metrics:\")\n",
    "    # number of vertices and faces\n",
    "\n",
    "    flag = False\n",
    "    if isinstance(ms, trimesh.Trimesh):\n",
    "        flag = True\n",
    "        V, F = ms.vertices, ms.faces\n",
    "        ms = ml.MeshSet()\n",
    "        ms.add_mesh(ml.Mesh(V, F))\n",
    "    else: \n",
    "        V = ms.current_mesh().vertex_matrix()\n",
    "        F = ms.current_mesh().face_matrix()\n",
    "\n",
    "    n_verts = ms.current_mesh().vertex_number()\n",
    "    n_faces = ms.current_mesh().face_number()\n",
    "    geo_measures = ms.get_geometric_measures()\n",
    "    topo_measures = ms.get_topological_measures()\n",
    "    h = geo_measures['avg_edge_length']\n",
    "\n",
    "    connected_components = topo_measures['connected_components_number']\n",
    "\n",
    "    # trimesh watertightness\n",
    "    trimesh_mesh = trimesh.Trimesh(\n",
    "        vertices=np.asarray(ms.current_mesh().vertex_matrix(), float),\n",
    "        faces=np.asarray(ms.current_mesh().face_matrix(), int),\n",
    "        process=False\n",
    "    )\n",
    "    is_watertight = trimesh_mesh.is_watertight\n",
    "    is_winding_consistent = trimesh_mesh.is_winding_consistent\n",
    "\n",
    "    # trimesh volume\n",
    "    vol = trimesh_mesh.volume if is_watertight else None\n",
    "    area = trimesh_mesh.area\n",
    "\n",
    "    # pymeshlab nonmanifold edges/faces\n",
    "    n_nonmanifold_edges = int(topo_measures['non_two_manifold_edges'])\n",
    "    n_nonmanifold_vertices = int(topo_measures['non_two_manifold_vertices'])\n",
    "\n",
    "    print(f\"[quick {i} 1/3] {n_verts} verts, {n_faces} faces, watertight: {is_watertight}, genus: {topo_measures['genus']}, wind-consistent: {is_winding_consistent}, h = {np.round(h, 3)}, components: {connected_components}\\n[quick {i} 2/3] vol = {vol}, area = {area}, non-manifold edges: {n_nonmanifold_edges}/ vertices: {n_nonmanifold_vertices}\\n[quick {i} 3/3] bbox: {V.min(axis=0)} to {V.max(axis=0)}\")\n",
    "\n",
    "    if flag: \n",
    "        del ms"
   ]
  },
  {
   "cell_type": "code",
   "execution_count": 4,
   "id": "4e29004d",
   "metadata": {},
   "outputs": [],
   "source": [
    "def print_python_or_matlab_indexing(fc, name=\"\"): \n",
    "    if np.min(fc) == 0:\n",
    "        print(f\" - {name} (python)\")\n",
    "    elif np.min(fc) == 1:\n",
    "        print(f\" - {name} (matlab)\")\n",
    "    else:\n",
    "        print(f\" - {name} (unknown indexing)\")\n",
    "\n",
    "def normalize_vertices_inplace(no):\n",
    "    no[:, :3] = (no[:, :3] - no[:, :3].min(axis=0)) / (no[:, :3].max(axis=0) - no[:, :3].min(axis=0))\n",
    "\n",
    "def normalize_vertices(no): \n",
    "    no_out = no.copy()\n",
    "    no_out[:, :3] = (no_out[:, :3] - no_out[:, :3].min(axis=0)) / (no_out[:, :3].max(axis=0) - no_out[:, :3].min(axis=0))\n",
    "    return no_out\n",
    "\n",
    "def view_wireframe(V: np.ndarray, F: np.ndarray, title=\"surface\"):\n",
    "    faces = np.hstack([np.full((len(F),1),3), F]).ravel()\n",
    "    mesh = pv.PolyData(V, faces)\n",
    "    p = pv.Plotter()\n",
    "    p.add_mesh(mesh, show_edges=True, color='black', style='wireframe')\n",
    "    p.add_axes(); p.show(title=title)\n",
    "\n",
    "def view_cropped(V, F, title, point_on_plane=None, normal=None, mode=\"wireframe\"):\n",
    "    # default is half the model\n",
    "    if point_on_plane is None:\n",
    "        point_on_plane = V.mean(axis=1)\n",
    "    if normal is None:\n",
    "        normal = np.array([0,0,1])\n",
    "    faces = np.hstack([np.full((len(F),1),3), F]).ravel()\n",
    "    mesh = pv.PolyData(V, faces)\n",
    "    clipped = mesh.clip(normal=normal, origin=point_on_plane, invert=False)\n",
    "    p = pv.Plotter()\n",
    "    p.add_mesh(clipped, show_edges=True, style=\"wireframe\" if mode==\"wireframe\" else \"surface\")\n",
    "    p.add_axes(); p.show(title=title)"
   ]
  },
  {
   "cell_type": "code",
   "execution_count": 16,
   "id": "610f0a61",
   "metadata": {},
   "outputs": [
    {
     "name": "stdout",
     "output_type": "stream",
     "text": [
      "cells_dict: {'triangle': array([[     0,      1,      2],\n",
      "       [     3,      2,      4],\n",
      "       [     5,      6,      7],\n",
      "       ...,\n",
      "       [200203, 200213, 200206],\n",
      "       [199634, 199643, 200212],\n",
      "       [199643, 199641, 199642]], shape=(401532, 3))}\n",
      "(200214, 3)\n",
      "(401532, 3)\n",
      "[ORIGINAL]\n",
      "[quick 0 1/3] 200214 verts, 401532 faces, watertight: True, genus: 277, wind-consistent: True, h = 0.017, components: 1\n",
      "[quick 0 2/3] vol = 1.8257260034360687, area = 50.91224601954718, non-manifold edges: 0/ vertices: 0\n",
      "[quick 0 3/3] bbox: [0. 0. 0.] to [2.         2.         1.99899995]\n",
      "[NORMALIZING NODES]\n",
      "[quick 1 1/3] 200214 verts, 401532 faces, watertight: True, genus: 277, wind-consistent: True, h = 0.009, components: 1\n",
      "[quick 1 2/3] vol = 0.22832992072480432, area = 12.732050087799307, non-manifold edges: 0/ vertices: 0\n",
      "[quick 1 3/3] bbox: [0. 0. 0.] to [1. 1. 1.]\n"
     ]
    }
   ],
   "source": [
    "mesh = meshio.read('./final_stitched.stl')\n",
    "nodes = mesh.points\n",
    "cells_dict = mesh.cells_dict\n",
    "print(f\"cells_dict: {cells_dict}\")\n",
    "elems = mesh.cells_dict['triangle']\n",
    "print(nodes.shape)\n",
    "print(elems.shape)\n",
    "\n",
    "# quick report\n",
    "m = trimesh.Trimesh(nodes, elems)\n",
    "ms = ml.MeshSet()\n",
    "ms.add_mesh(ml.Mesh(nodes, elems))\n",
    "print(\"[ORIGINAL]\")\n",
    "quick_mesh_report(ms, i=0)\n",
    "\n",
    "print(\"[NORMALIZING NODES]\")\n",
    "normalize_vertices_inplace(nodes)\n",
    "m = trimesh.Trimesh(nodes, elems)\n",
    "quick_mesh_report(m, i=1)"
   ]
  },
  {
   "cell_type": "code",
   "execution_count": 6,
   "id": "b52c205f",
   "metadata": {},
   "outputs": [
    {
     "name": "stdout",
     "output_type": "stream",
     "text": [
      "[TETGEN TETRAHEDRALIZATION]\n",
      "tetgen output: (300215, 3), (916112, 4)\n"
     ]
    }
   ],
   "source": [
    "# tetgen tetrahedralization\n",
    "\n",
    "print(\"[TETGEN TETRAHEDRALIZATION]\")\n",
    "tg = tetgen.TetGen(clean_nodes, clean_elems)\n",
    "tg.tetrahedralize(order=1, minratio=1.1)\n",
    "nodes_tet = tg.node\n",
    "elems_tet = tg.elem\n",
    "print(f\"tetgen output: {nodes_tet.shape}, {elems_tet.shape}\")"
   ]
  },
  {
   "cell_type": "code",
   "execution_count": 7,
   "id": "5c9ec1f5",
   "metadata": {},
   "outputs": [
    {
     "name": "stdout",
     "output_type": "stream",
     "text": [
      "(300215, 3)\n",
      "{'tetra': array([[213661, 213638, 213672, 257105],\n",
      "       [ 29223,  29260,  29203,  29259],\n",
      "       [  6708,   5415,   6707,   5470],\n",
      "       ...,\n",
      "       [124327, 124339, 124340, 206156],\n",
      "       [157824, 157682, 157832, 217395],\n",
      "       [260840, 271149, 272358, 276223]], shape=(916112, 4))}\n"
     ]
    }
   ],
   "source": [
    "# meshio write as xdmf\n",
    "\n",
    "tg.write('./final_stitched_tetra.vtu')\n",
    "vtumsh = meshio.read('./final_stitched_tetra.vtu')\n",
    "print(vtumsh.points.shape)\n",
    "print(vtumsh.cells_dict)\n",
    "vtumsh.write('./final_stitched_tetra.xdmf')"
   ]
  },
  {
   "cell_type": "code",
   "execution_count": 8,
   "id": "3eced492",
   "metadata": {},
   "outputs": [
    {
     "data": {
      "application/vnd.jupyter.widget-view+json": {
       "model_id": "9c02859318c64f13ab8ca80d67e99b67",
       "version_major": 2,
       "version_minor": 0
      },
      "text/plain": [
       "Widget(value='<iframe src=\"http://localhost:37507/index.html?ui=P_0x7f5662f9a610_0&reconnect=auto\" class=\"pyvi…"
      ]
     },
     "metadata": {},
     "output_type": "display_data"
    },
    {
     "data": {
      "application/vnd.jupyter.widget-view+json": {
       "model_id": "6a803b767a3b42288c81f244066c35de",
       "version_major": 2,
       "version_minor": 0
      },
      "text/plain": [
       "Widget(value='<iframe src=\"http://localhost:37507/index.html?ui=P_0x7f56510afad0_1&reconnect=auto\" class=\"pyvi…"
      ]
     },
     "metadata": {},
     "output_type": "display_data"
    }
   ],
   "source": [
    "grid = tg.grid\n",
    "grid.plot(show_edges=True)\n",
    "cells = grid.cells.reshape(-1, 5)[:, 1:]\n",
    "cell_center = grid.points[cells].mean(1)\n",
    "\n",
    "mask = cell_center[:, 1] < 0.5\n",
    "cell_ind = mask.nonzero()[0]\n",
    "subgrid = grid.extract_cells(cell_ind)\n",
    "\n",
    "# advanced plotting\n",
    "plotter = pv.Plotter()\n",
    "plotter.add_mesh(subgrid, 'lightgrey', lighting=True, show_edges=True)\n",
    "plotter.add_mesh(tg.mesh, 'red', 'wireframe', opacity=0.2) # style = 'wireframe'\n",
    "plotter.add_legend([[' Input Mesh ', 'r'],\n",
    "                    [' tetrahedralize mesh ', 'black']])\n",
    "plotter.show()"
   ]
  },
  {
   "cell_type": "code",
   "execution_count": 9,
   "id": "a8d810c5",
   "metadata": {},
   "outputs": [],
   "source": [
    "# def create_mesh(mesh, cell_type):\n",
    "#     points = mesh.points\n",
    "#     cells = mesh.get_cells_type(cell_type)\n",
    "#     # This line needs to get cell data from what ever the markers have been called in the vtk file.\n",
    "#     # Expore this by printing mesh.cell_data\n",
    "#     # cell_data = mesh.get_cell_data(\"gmsh:physical\", cell_type)\n",
    "#     out_mesh = meshio.Mesh(points=points, cells={cell_type: cells})\n",
    "#     #, cell_data={\"name_to_read\":[cell_data]})\n",
    "#     return out_mesh\n",
    "\n",
    "# in_mesh = meshio.read('./meshes/lung-cut/lung_cut_right.msh')\n",
    "# print(in_mesh.cells_dict)\n",
    "# print(in_mesh.points)\n",
    "# print(in_mesh.points.shape)\n",
    "\n",
    "# out_mesh = create_mesh(in_mesh, \"tetra\")\n",
    "# meshio.write('./meshes/lung-cut/lung_cut_right.xdmf', out_mesh)"
   ]
  },
  {
   "cell_type": "code",
   "execution_count": 12,
   "id": "ddd9bfff",
   "metadata": {},
   "outputs": [],
   "source": [
    "with io.XDMFFile(MPI.COMM_WORLD,  './final_stitched_tetra.xdmf', \"r\") as xdmf:\n",
    "    xdmfmesh = xdmf.read_mesh(name=\"Grid\")\n",
    "    dim = xdmfmesh.topology.dim\n",
    "fdim = dim - 1\n",
    "    \n",
    "# Scale mesh to [0,1]³ for periodic boundary conditions\n",
    "x = xdmfmesh.geometry.x\n",
    "min_coords = np.min(x, axis=0)\n",
    "max_coords = np.max(x, axis=0)\n",
    "\n",
    "# Scale to [0,1]³\n",
    "for i in range(3):\n",
    "    x[:, i] = (x[:, i] - min_coords[i]) / (max_coords[i] - min_coords[i])"
   ]
  },
  {
   "cell_type": "code",
   "execution_count": 15,
   "id": "fe19ad3e",
   "metadata": {},
   "outputs": [
    {
     "name": "stdout",
     "output_type": "stream",
     "text": [
      "tet mesh volume: 0.22832954898885044\n"
     ]
    }
   ],
   "source": [
    "# dolfinx integrate volume to compare\n",
    "# tet_mesh = dmesh.create_mesh(MPI.COMM_WORLD, elems_tet, nodes_tet, dmesh.CellType.tetrahedron)\n",
    "\n",
    "V = fem.functionspace(xdmfmesh, (\"Lagrange\", 1))\n",
    "one = fem.Constant(xdmfmesh, PETSc.ScalarType(1.0))\n",
    "# u = fem.Function(V)\n",
    "# u.interpolate(one)\n",
    "volume = fem.assemble_scalar(fem.form(one*ufl.dx))\n",
    "print(f\"tet mesh volume: {volume}\")"
   ]
  },
  {
   "cell_type": "code",
   "execution_count": null,
   "id": "24357911",
   "metadata": {},
   "outputs": [],
   "source": [
    "# solve the poisson equation"
   ]
  }
 ],
 "metadata": {
  "kernelspec": {
   "display_name": "fenicsx-env",
   "language": "python",
   "name": "python3"
  },
  "language_info": {
   "codemirror_mode": {
    "name": "ipython",
    "version": 3
   },
   "file_extension": ".py",
   "mimetype": "text/x-python",
   "name": "python",
   "nbconvert_exporter": "python",
   "pygments_lexer": "ipython3",
   "version": "3.11.12"
  }
 },
 "nbformat": 4,
 "nbformat_minor": 5
}
